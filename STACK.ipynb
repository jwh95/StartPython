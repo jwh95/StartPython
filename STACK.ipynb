{
  "nbformat": 4,
  "nbformat_minor": 0,
  "metadata": {
    "colab": {
      "name": "STACK",
      "provenance": [],
      "collapsed_sections": [],
      "include_colab_link": true
    },
    "kernelspec": {
      "name": "python3",
      "display_name": "Python 3"
    }
  },
  "cells": [
    {
      "cell_type": "markdown",
      "metadata": {
        "id": "view-in-github",
        "colab_type": "text"
      },
      "source": [
        "<a href=\"https://colab.research.google.com/github/jwh95/StartPython/blob/HelloPython/STACK.ipynb\" target=\"_parent\"><img src=\"https://colab.research.google.com/assets/colab-badge.svg\" alt=\"Open In Colab\"/></a>"
      ]
    },
    {
      "cell_type": "code",
      "metadata": {
        "id": "tHmENiY6wqRF",
        "colab_type": "code",
        "outputId": "9ebdefbf-8f6a-4e1c-b7f7-c303bd8d16f0",
        "colab": {
          "base_uri": "https://localhost:8080/",
          "height": 269
        }
      },
      "source": [
        "def push(a):\n",
        "\tstack.append(int(a))\n",
        "\t\n",
        "def pop():\n",
        "\tif not stack:\n",
        "\t\tprint(-1)\n",
        "\telse:\n",
        "\t\tprint(int(stack.pop()))\n",
        "\t\n",
        "def size():\n",
        "\tprint(len(stack))\n",
        "\n",
        "def empty():\n",
        "\tif not stack:\n",
        "\t\tprint(1)\n",
        "\telse:\n",
        "\t\tprint(0)\n",
        "\t\n",
        "def top():\n",
        "\tif not stack:\n",
        "\t\tprint(-1)\n",
        "\telse:\n",
        "\t\tprint(stack[len(stack)-1])\n",
        "\t\t\n",
        "stack = []\n",
        "a = int(input())\n",
        "\n",
        "\n",
        "for i in range(a):\n",
        "  st = input().split()\n",
        "  if st[0] == 'push':\n",
        "    push(st[1])\n",
        "  elif st[0] == 'pop':\n",
        "    pop()\n",
        "  elif st[0] == 'empty':\n",
        "    empty()\n",
        "  elif st[0] == 'size':\n",
        "    size()\n",
        "  elif st[0] == 'top':\n",
        "    top()\n",
        "    "
      ],
      "execution_count": 0,
      "outputs": [
        {
          "output_type": "stream",
          "text": [
            "8\n",
            "push 1\n",
            "push 2\n",
            "pop\n",
            "2\n",
            "top\n",
            "1\n",
            "empty\n",
            "0\n",
            "zise\n",
            "size\n",
            "1\n",
            "pop\n",
            "1\n"
          ],
          "name": "stdout"
        }
      ]
    }
  ]
}