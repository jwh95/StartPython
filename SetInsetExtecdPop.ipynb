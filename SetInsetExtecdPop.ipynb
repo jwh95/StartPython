{
  "nbformat": 4,
  "nbformat_minor": 0,
  "metadata": {
    "colab": {
      "name": "SetInsetExtecdPop",
      "provenance": [],
      "include_colab_link": true
    },
    "kernelspec": {
      "name": "python3",
      "display_name": "Python 3"
    }
  },
  "cells": [
    {
      "cell_type": "markdown",
      "metadata": {
        "id": "view-in-github",
        "colab_type": "text"
      },
      "source": [
        "<a href=\"https://colab.research.google.com/github/jwh95/StartPython/blob/HelloPython/SetInsetExtecdPop.ipynb\" target=\"_parent\"><img src=\"https://colab.research.google.com/assets/colab-badge.svg\" alt=\"Open In Colab\"/></a>"
      ]
    },
    {
      "cell_type": "code",
      "metadata": {
        "id": "-jNZTAQP7_Z9",
        "colab_type": "code",
        "colab": {
          "base_uri": "https://localhost:8080/",
          "height": 404
        },
        "outputId": "99ed2488-c5da-4bce-9552-c162d3cb87b7"
      },
      "source": [
        "print( \"< Reverse()와 Index() 함수  > \\n\")\n",
        "#  reverse() 그냥 하게 되면 중복 제거 없이 그냥 입력 순서 역방향 \n",
        "test = [1,4,5,3,5,6]\n",
        "test.reverse()\n",
        "print(\"Original List : \",test)\n",
        "\n",
        "print(\"숫자 4의 위치는 ? \", test.index(4), \" 번째 입니다. \\n\")\n",
        "\n",
        "# set() : 기존 순서 무시하고 정렬과 중복만 제거, 결과를 리스트로 원하면 list()로 감싸기 \n",
        "# dict.fromkeys() : 라이블러리로 순서 유지하면서 중복 제거 \n",
        "print( \"< set() 중복제거 > \\n\")\n",
        "print(\"리스트 형태로 정렬하여 중복제거 : \", list(set(test))) \n",
        "\n",
        "from collections import OrderedDict\n",
        "\n",
        "print(\"리스트 형태로 순서 유지하면서 중복제거 : \", list(dict.fromkeys(test)), \"\\n\") \n",
        "\n",
        "print( \"< insert() 함수 > \\n\")\n",
        "# insert(x,y)\n",
        "test.insert(0,7)\n",
        "print(\"0번째에 숫자 7 삽입 : \", test, \"\\n\")\n",
        "\n",
        "print( \"< extend() 함수 > \\n\")\n",
        "# extend(X) x부분의 list를 받아 원래의 list와 병합\n",
        "test.extend([10,2])\n",
        "print(\"Extend 병합 : \", test, '\\n')\n",
        "\n",
        "print( \"< Remove 말고 pop() 함수 > \\n\")\n",
        "#remove() 말고 pop() \n",
        "\n",
        "print(\"Remove말고 pop은 가장 마지막 인덱스 값 반환 및 삭제 : \", test.pop())\n",
        "print(\"결과 : \", test)\n"
      ],
      "execution_count": 1,
      "outputs": [
        {
          "output_type": "stream",
          "text": [
            "< Reverse()와 Index() 함수  > \n",
            "\n",
            "Original List :  [6, 5, 3, 5, 4, 1]\n",
            "숫자 4의 위치는 ?  4  번째 입니다. \n",
            "\n",
            "< set() 중복제거 > \n",
            "\n",
            "리스트 형태로 정렬하여 중복제거 :  [1, 3, 4, 5, 6]\n",
            "리스트 형태로 순서 유지하면서 중복제거 :  [6, 5, 3, 4, 1] \n",
            "\n",
            "< insert() 함수 > \n",
            "\n",
            "0번째에 숫자 7 삽입 :  [7, 6, 5, 3, 5, 4, 1] \n",
            "\n",
            "< extend() 함수 > \n",
            "\n",
            "Extend 병합 :  [7, 6, 5, 3, 5, 4, 1, 10, 2] \n",
            "\n",
            "< Remove 말고 pop() 함수 > \n",
            "\n",
            "Remove말고 pop은 가장 마지막 인덱스 값 반환 및 삭제 :  2\n",
            "결과 :  [7, 6, 5, 3, 5, 4, 1, 10]\n"
          ],
          "name": "stdout"
        }
      ]
    }
  ]
}