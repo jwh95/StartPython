{
  "nbformat": 4,
  "nbformat_minor": 0,
  "metadata": {
    "colab": {
      "name": "append",
      "provenance": [],
      "collapsed_sections": [],
      "include_colab_link": true
    },
    "kernelspec": {
      "name": "python3",
      "display_name": "Python 3"
    }
  },
  "cells": [
    {
      "cell_type": "markdown",
      "metadata": {
        "id": "view-in-github",
        "colab_type": "text"
      },
      "source": [
        "<a href=\"https://colab.research.google.com/github/jwh95/StartPython/blob/HelloPython/append.ipynb\" target=\"_parent\"><img src=\"https://colab.research.google.com/assets/colab-badge.svg\" alt=\"Open In Colab\"/></a>"
      ]
    },
    {
      "cell_type": "code",
      "metadata": {
        "id": "hPLWF42yVdCG",
        "colab_type": "code",
        "colab": {}
      },
      "source": [
        "# append() 함수는 인자를 1개만 추가할 수 있다. \n",
        "print( \"< append() 함수 > \\n\")\n",
        "test = [3,4]\n",
        "test.append(7)\n",
        "print(\"추가 : \", test)\n",
        "\n",
        "Sorttest = [3,4,5,8,1,2]\n",
        "Sorttest.append(9)\n",
        "Sorttest.sort()\n",
        "print(\"정렬 : \", Sorttest)\n",
        "\n",
        "Sorttest.sort(reverse = True) \n",
        "# T는 항상 대문자 \n",
        "print(\"역정렬 : \", Sorttest)"
      ],
      "execution_count": 0,
      "outputs": []
    }
  ]
}