{
  "nbformat": 4,
  "nbformat_minor": 0,
  "metadata": {
    "colab": {
      "name": "Set",
      "provenance": [],
      "include_colab_link": true
    },
    "kernelspec": {
      "name": "python3",
      "display_name": "Python 3"
    }
  },
  "cells": [
    {
      "cell_type": "markdown",
      "metadata": {
        "id": "view-in-github",
        "colab_type": "text"
      },
      "source": [
        "<a href=\"https://colab.research.google.com/github/jwh95/StartPython/blob/HelloPython/Set.ipynb\" target=\"_parent\"><img src=\"https://colab.research.google.com/assets/colab-badge.svg\" alt=\"Open In Colab\"/></a>"
      ]
    },
    {
      "cell_type": "code",
      "metadata": {
        "id": "GSfBp1e1DgfI",
        "colab_type": "code",
        "colab": {
          "base_uri": "https://localhost:8080/",
          "height": 298
        },
        "outputId": "f7f6eda9-335b-467f-e336-4c5bdb500174"
      },
      "source": [
        "print(\"<SET 집합 자료형> \\n\"+\n",
        "       \"- List 와 Tuple과 달리 Set은 중복 허용하지 않고 순서가 없는 집합 자료형 \\n\"\n",
        "       \"- Dictionary와 비슷, 인덱싱 불가능, 원하면 변환 후 가능 \\n\"\n",
        "       \"- 교집합, 차집합, 합집합 등 집합 연산에 유리 \\n\")\n",
        "\n",
        "stest1 = set([1,2,3,4,5, 6]) \n",
        "stest2 = set([5,6,7,8,9,0])\n",
        "\n",
        "print(\"원래 데이터 셋 \\n\" +\n",
        "     \"set1 : \", stest1 , \"\\n\" +\n",
        "     \"set2 : \", stest2 , \"\\n\")\n",
        "\n",
        "print(\"교집합(& = 1.intersection(2)) : \", stest1 & stest2)\n",
        "print(\"정렬되는 합집합(| = 1.union(2)) : \", stest1 | stest2)\n",
        "print(\"set1과 set2 차집합(- = 1.difference(2)) : \", stest1 - stest2)\n",
        "print(\"set2와 set1 차집합(- = 2.difference(1)) : \", stest2 - stest1 , \"\\n\")\n",
        "\n",
        "stest1.add(10)\n",
        "print(\"add() 함수로 값 추가 가능(중복 제외) : \" , stest1 )\n",
        "stest1.update([6,7,8,9])\n",
        "print(\"update() 함수로 여러 값(반복가능한 iterable 자료형 ex)리스트, 튜플) 추가 가능(중복 제외) : \" , stest1 )"
      ],
      "execution_count": 1,
      "outputs": [
        {
          "output_type": "stream",
          "text": [
            "<SET 집합 자료형> \n",
            "- List 와 Tuple과 달리 Set은 중복 허용하지 않고 순서가 없는 집합 자료형 \n",
            "- Dictionary와 비슷, 인덱싱 불가능, 원하면 변환 후 가능 \n",
            "- 교집합, 차집합, 합집합 등 집합 연산에 유리 \n",
            "\n",
            "원래 데이터 셋 \n",
            "set1 :  {1, 2, 3, 4, 5, 6} \n",
            "set2 :  {0, 5, 6, 7, 8, 9} \n",
            "\n",
            "교집합(& = 1.intersection(2)) :  {5, 6}\n",
            "정렬되는 합집합(| = 1.union(2)) :  {0, 1, 2, 3, 4, 5, 6, 7, 8, 9}\n",
            "set1과 set2 차집합(- = 1.difference(2)) :  {1, 2, 3, 4}\n",
            "set2와 set1 차집합(- = 2.difference(1)) :  {0, 8, 9, 7} \n",
            "\n",
            "add() 함수로 값 추가 가능(중복 제외) :  {1, 2, 3, 4, 5, 6, 10}\n",
            "update() 함수로 여러 값(반복가능한 iterable 자료형 ex)리스트, 튜플) 추가 가능(중복 제외) :  {1, 2, 3, 4, 5, 6, 7, 8, 9, 10}\n"
          ],
          "name": "stdout"
        }
      ]
    }
  ]
}