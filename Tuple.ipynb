{
  "nbformat": 4,
  "nbformat_minor": 0,
  "metadata": {
    "colab": {
      "name": "Tuple",
      "provenance": [],
      "include_colab_link": true
    },
    "kernelspec": {
      "name": "python3",
      "display_name": "Python 3"
    }
  },
  "cells": [
    {
      "cell_type": "markdown",
      "metadata": {
        "id": "view-in-github",
        "colab_type": "text"
      },
      "source": [
        "<a href=\"https://colab.research.google.com/github/jwh95/StartPython/blob/HelloPython/Tuple.ipynb\" target=\"_parent\"><img src=\"https://colab.research.google.com/assets/colab-badge.svg\" alt=\"Open In Colab\"/></a>"
      ]
    },
    {
      "cell_type": "code",
      "metadata": {
        "id": "j-7EqEZzZ6ym",
        "colab_type": "code",
        "colab": {
          "base_uri": "https://localhost:8080/",
          "height": 122
        },
        "outputId": "4a321d0a-0c20-483c-c782-22ba70aa0973"
      },
      "source": [
        "print (\"< Tuple >  \\n\")\n",
        "# list는 [] 대괄호, tuple은 () 소괄호\n",
        "#  1개의 요소만 가질 때, 반드시 콤마(,) ex) test = (1,)\n",
        "#  괄호 생략도 가능 ex) test = 1,2,3\n",
        "#  List 와 달리 값 변경이 불가능하다. \n",
        "# ** List와 비슷하게 인덱싱, 슬라이싱, 병합, 반복 모두 가능 \n",
        "\n",
        "test1 = (1,2,3)\n",
        "test2 = 4,5,6\n",
        "\n",
        "print (\"인덱싱 : \", test1[2])\n",
        "print(\"슬라이싱 : \", test1[1:])\n",
        "print(\"병합 : \", test1 + test2)\n",
        "print(\"반복 : \", test2 * 2)"
      ],
      "execution_count": 1,
      "outputs": [
        {
          "output_type": "stream",
          "text": [
            "< Tuple >  \n",
            "\n",
            "인덱싱 :  3\n",
            "슬라이싱 :  (2, 3)\n",
            "병합 :  (1, 2, 3, 4, 5, 6)\n",
            "반복 :  (4, 5, 6, 4, 5, 6)\n"
          ],
          "name": "stdout"
        }
      ]
    }
  ]
}