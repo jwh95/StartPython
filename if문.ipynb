{
  "nbformat": 4,
  "nbformat_minor": 0,
  "metadata": {
    "colab": {
      "name": "if문",
      "provenance": [],
      "collapsed_sections": [],
      "include_colab_link": true
    },
    "kernelspec": {
      "name": "python3",
      "display_name": "Python 3"
    },
    "accelerator": "GPU"
  },
  "cells": [
    {
      "cell_type": "markdown",
      "metadata": {
        "id": "view-in-github",
        "colab_type": "text"
      },
      "source": [
        "<a href=\"https://colab.research.google.com/github/jwh95/StartPython/blob/HelloPython/if%EB%AC%B8.ipynb\" target=\"_parent\"><img src=\"https://colab.research.google.com/assets/colab-badge.svg\" alt=\"Open In Colab\"/></a>"
      ]
    },
    {
      "cell_type": "code",
      "metadata": {
        "id": "BDo0bFfZYR61",
        "colab_type": "code",
        "colab": {
          "base_uri": "https://localhost:8080/",
          "height": 175
        },
        "outputId": "0a7570c3-fc57-4c62-fd0e-1a6f7e851a6f"
      },
      "source": [
        "print( \"< If문 > \\n\")\n",
        "# if 조건문 :\n",
        "#   코드\n",
        "# elif 조건문 :\n",
        "#   코드\n",
        "# else :\n",
        "#   코드\n",
        "print( \"- 문자열 비교 with is \\n\")\n",
        "# 문자열 비교 \n",
        "test = 'if문 테스트 진행 중'\n",
        "\n",
        "if test is 'if문 테스트 진행 중':\n",
        "  print('test 1 : yes \\n')\n",
        "elif test is 'if문 테스트 진행 아님':\n",
        "  print('test 1 : no \\n')\n",
        "else :\n",
        "  print('test 1 : Nothing \\n')\n",
        "#  >> Nothing이 나오는 이유 : is는 == 연산자와 달리 값을 비교하는 것이 아닌 레퍼런스(포인터) 비교\n",
        "\n",
        "print( \"- is 대신 == 연산자 이용 \\n\")\n",
        "test = 'if문 테스트 진행 중'\n",
        "\n",
        "if test == 'if문 테스트 진행 중':\n",
        "  print('test 2 : yes')\n",
        "elif test is 'if문 테스트 진행 아님':\n",
        "  print('test 2 : no')\n",
        "else :\n",
        "  print('test 2 : Nothing')\n",
        "#   >> yes"
      ],
      "execution_count": 1,
      "outputs": [
        {
          "output_type": "stream",
          "text": [
            "< If문 > \n",
            "\n",
            "- 문자열 비교 with is \n",
            "\n",
            "test 1 : Nothing \n",
            "\n",
            "- is 대신 == 연산자 이용 \n",
            "\n",
            "test 2 : yes\n"
          ],
          "name": "stdout"
        }
      ]
    }
  ]
}